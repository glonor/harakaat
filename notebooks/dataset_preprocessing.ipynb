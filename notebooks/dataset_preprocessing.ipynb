{
 "cells": [
  {
   "cell_type": "code",
   "execution_count": null,
   "metadata": {},
   "outputs": [],
   "source": [
    "import os\n",
    "\n",
    "import rootutils\n",
    "\n",
    "path = rootutils.find_root(search_from=os.path.abspath(\"\"), indicator=\".project-root\")\n",
    "\n",
    "rootutils.setup_root(path, indicator=\".project-root\", pythonpath=True, dotenv=True)"
   ]
  },
  {
   "cell_type": "code",
   "execution_count": null,
   "metadata": {},
   "outputs": [],
   "source": [
    "from datasets import load_dataset\n",
    "\n",
    "from src.utils.prepare_utils import segment\n",
    "\n",
    "dataset = load_dataset(\"arbml/tashkeela\")\n",
    "dataset = dataset.map(\n",
    "    segment,\n",
    "    fn_kwargs={\"max_len\": 512},\n",
    "    batched=True,\n",
    "    remove_columns=[\"diacratized\", \"text\"],\n",
    "    num_proc=6,\n",
    ")\n",
    "dataset = dataset.rename_columns({\"new_diacratized\": \"diacratized\", \"new_text\": \"text\"})"
   ]
  },
  {
   "cell_type": "code",
   "execution_count": null,
   "metadata": {},
   "outputs": [],
   "source": [
    "dataset.push_to_hub(\"glonor/tashkeela\", token=os.getenv(\"HF_TOKEN\"))"
   ]
  }
 ],
 "metadata": {
  "kernelspec": {
   "display_name": "atd",
   "language": "python",
   "name": "python3"
  },
  "language_info": {
   "codemirror_mode": {
    "name": "ipython",
    "version": 3
   },
   "file_extension": ".py",
   "mimetype": "text/x-python",
   "name": "python",
   "nbconvert_exporter": "python",
   "pygments_lexer": "ipython3",
   "version": "3.11.8"
  }
 },
 "nbformat": 4,
 "nbformat_minor": 2
}
